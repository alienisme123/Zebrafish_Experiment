{
 "cells": [
  {
   "cell_type": "code",
   "execution_count": 1,
   "id": "a1c70f14",
   "metadata": {},
   "outputs": [],
   "source": [
    "import numpy as np"
   ]
  },
  {
   "cell_type": "code",
   "execution_count": 2,
   "id": "73aeb522",
   "metadata": {},
   "outputs": [],
   "source": [
    "def uni(frn,rear,j,k):\n",
    "    n = rear - frn #number of nan \n",
    "    step = (tra[rear,j,k] - tra[frn-1,j,k])/max(n,1) \n",
    "    for i in range (1,n+1):\n",
    "        tra[i+frn-1,j,k] = tra[frn-1,j,k] + step*i"
   ]
  },
  {
   "cell_type": "code",
   "execution_count": 3,
   "id": "69453742",
   "metadata": {},
   "outputs": [],
   "source": [
    "noa   = 17    #set number of animals \n",
    "frame = 9000  #set frame number \n",
    "tra = np.load('D:/trajectories.npy',allow_pickle=True) #load data"
   ]
  },
  {
   "cell_type": "code",
   "execution_count": 4,
   "id": "fe4bf2b0",
   "metadata": {},
   "outputs": [],
   "source": [
    "tra=tra.item()\n",
    "tra=tra['trajectories']  #get data \n",
    "\n",
    "\n",
    "front= 0 \n",
    "for j in range (0,noa):\n",
    "    for k in range (0,2):\n",
    "        flag=False\n",
    "        for i in range (1,frame):\n",
    "            if (np.isnan(tra[i,j,k]) and flag == False ):\n",
    "                flag=True\n",
    "                front = i\n",
    "            elif ((not np.isnan(tra[i,j,k])) and flag ==True):\n",
    "                flag=False\n",
    "                uni(front,i,j,k)\n",
    "                "
   ]
  }
 ],
 "metadata": {
  "kernelspec": {
   "display_name": "Python 3",
   "language": "python",
   "name": "python3"
  },
  "language_info": {
   "codemirror_mode": {
    "name": "ipython",
    "version": 3
   },
   "file_extension": ".py",
   "mimetype": "text/x-python",
   "name": "python",
   "nbconvert_exporter": "python",
   "pygments_lexer": "ipython3",
   "version": "3.7.11"
  },
  "toc": {
   "base_numbering": 1,
   "nav_menu": {},
   "number_sections": true,
   "sideBar": true,
   "skip_h1_title": false,
   "title_cell": "Table of Contents",
   "title_sidebar": "Contents",
   "toc_cell": false,
   "toc_position": {},
   "toc_section_display": true,
   "toc_window_display": false
  },
  "varInspector": {
   "cols": {
    "lenName": 16,
    "lenType": 16,
    "lenVar": 40
   },
   "kernels_config": {
    "python": {
     "delete_cmd_postfix": "",
     "delete_cmd_prefix": "del ",
     "library": "var_list.py",
     "varRefreshCmd": "print(var_dic_list())"
    },
    "r": {
     "delete_cmd_postfix": ") ",
     "delete_cmd_prefix": "rm(",
     "library": "var_list.r",
     "varRefreshCmd": "cat(var_dic_list()) "
    }
   },
   "types_to_exclude": [
    "module",
    "function",
    "builtin_function_or_method",
    "instance",
    "_Feature"
   ],
   "window_display": false
  }
 },
 "nbformat": 4,
 "nbformat_minor": 5
}
